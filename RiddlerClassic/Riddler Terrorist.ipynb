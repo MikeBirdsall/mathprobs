{
 "cells": [
  {
   "cell_type": "code",
   "execution_count": 32,
   "metadata": {},
   "outputs": [],
   "source": [
    "from datetime import date\n",
    "from dateutil.rrule import rrule, DAILY\n",
    "from collections import Counter"
   ]
  },
  {
   "cell_type": "markdown",
   "metadata": {},
   "source": [
    "Solving the Riddler Express chaotic terrorist problem"
   ]
  },
  {
   "cell_type": "code",
   "execution_count": 40,
   "metadata": {},
   "outputs": [],
   "source": [
    "start_date = date(2000,1,1)\n",
    "end_date = date(2099,12,31)\n",
    "dates = rrule(DAILY, dtstart=start_date, until=end_date)\n",
    "\n",
    "attacks = 0\n",
    "in_year = [0]*100"
   ]
  },
  {
   "cell_type": "code",
   "execution_count": 41,
   "metadata": {},
   "outputs": [],
   "source": [
    "gap_start = start_date\n",
    "for check in dates:\n",
    "    check = check.date()\n",
    "    year = check.year % 100\n",
    "    is_attack = check.month * check.day == year\n",
    "    if is_attack:\n",
    "        attacks += 1\n",
    "        in_year[year] += 1\n",
    "        gap[check] "
   ]
  },
  {
   "cell_type": "code",
   "execution_count": 51,
   "metadata": {},
   "outputs": [
    {
     "name": "stdout",
     "output_type": "stream",
     "text": [
      "There were 212 attacks\n",
      "The best years had 0 attacks: [37, 41, 43, 47, 53, 58, 59, 61, 62, 67, 71, 73, 74, 79, 82, 83, 86, 89, 94, 97]\n",
      "The worst years had 7 attacks: [24]\n"
     ]
    }
   ],
   "source": [
    "best_year_count = min(in_year[1:])\n",
    "worst_year_count = max(in_year[1:])\n",
    "best_years = {}\n",
    "worst_years = {}\n",
    "\n",
    "for year in range(1,100):\n",
    "    if in_year[year] == best_year_count:\n",
    "        best_years[year] = True\n",
    "    if in_year[year] == worst_year_count:\n",
    "        worst_years[year] = True\n",
    "        \n",
    "print(\"There were %s attacks\" % (count))        \n",
    "print(\"The best years had %s attacks: %s\" % (best_year_count, sorted(list(best_years.keys()))))\n",
    "print(\"The worst years had %s attacks: %s\" % (worst_year_count, list(worst_years.keys())))\n",
    "      "
   ]
  },
  {
   "cell_type": "code",
   "execution_count": null,
   "metadata": {},
   "outputs": [],
   "source": []
  }
 ],
 "metadata": {
  "kernelspec": {
   "display_name": "Python 3",
   "language": "python",
   "name": "python3"
  },
  "language_info": {
   "codemirror_mode": {
    "name": "ipython",
    "version": 3
   },
   "file_extension": ".py",
   "mimetype": "text/x-python",
   "name": "python",
   "nbconvert_exporter": "python",
   "pygments_lexer": "ipython3",
   "version": "3.5.2"
  }
 },
 "nbformat": 4,
 "nbformat_minor": 2
}
