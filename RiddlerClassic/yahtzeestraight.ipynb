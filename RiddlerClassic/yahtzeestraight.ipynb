{
 "cells": [
  {
   "cell_type": "markdown",
   "metadata": {},
   "source": [
    "## Riddler Classic 2018 March 9\n",
    "\n",
    "It’s your final turn in a heated game of Yahtzee, and the only combination of dice you still need to score is a large straight (when all five dice show numbers in sequential order): You want your five dice to eventually show 1, 2, 3, 4 and 5 or 2, 3, 4, 5 and 6. On the first of your three possible rolls during your final turn, you roll 1, 2, 4, 5 and X (where X is not a 3). You could reroll the X in hopes of getting a 3. Or you could reroll the 1 and the X in hopes that they eventually land in some combination of 3 and 6. Or perhaps something completely different!"
   ]
  },
  {
   "cell_type": "code",
   "execution_count": 1,
   "metadata": {},
   "outputs": [
    {
     "data": {
      "text/html": [
       "<style>\n",
       "table {margin-left: 0 !important;}\n",
       "</style>"
      ],
      "text/plain": [
       "<IPython.core.display.HTML object>"
      ]
     },
     "metadata": {},
     "output_type": "display_data"
    }
   ],
   "source": [
    "%%html\n",
    "<style>\n",
    "table {margin-left: 0 !important;}\n",
    "</style>"
   ]
  },
  {
   "cell_type": "markdown",
   "metadata": {},
   "source": [
    "First thoughts: You have two remaining rolls. Here are tables for possible strategies:\n",
    "\n",
    "Strategy 1: Roll X (either duplicate of 1|2|4|5 or a 6 which is symmetric with 1)\n",
    "\n",
    "|1st Roll| Probability |Results | 2nd Roll | Prob | Results |Total Prob | Success|              \n",
    "| :----- |:-----------:|--------|-------------|------|---------|--------|              \n",
    "|X| $\\frac16$ | 3 |  |  | |$\\frac16$ |Yes|\n",
    "| | $\\frac56$ | X=1,2,4,5,6 | X | $\\frac16$  | 3 |$\\frac{5}{36}$ |Yes|\n",
    "| | | | | $\\frac56$  | X | $\\frac{25}{36}$ |No|\n",
    "|Total|||||| $\\frac{11}{36}$|Yes|\n",
    "||||||| $\\frac{25}{36}$ |No|\n",
    "\n",
    "Strategy 2: Roll 1,X (X is duplicate of 1|2|4|5 or a 6 which is symmetric with 1)\n",
    "\n",
    "|1st Roll| Probability |Results | 2nd Roll | Prob | Results |Total Prob | Success|              \n",
    "| :----- |:-----------:|--------|-------------|------|---------|--------|              \n",
    "|{1,X}| $\\frac19$|{1,3},{3,6}|  |  | |4/36|Yes|\n",
    "||1/6| {3,[2&#124;4&#124;5]}|[2&#124;4&#124;5]|1/3|[1&#124;6]|2/36|Yes|\n",
    "|||||2/3|[2&#124;3&#124;4&#124;5]|4/36|No|\n",
    "||1/3|{[1&#124;6],[2&#124;4&#124;5]}|[2&#124;4&#124;5]|1/6|3|2/36|Yes|\n",
    "|||||5/6|~3|10/36|No|\n",
    "||1/36|{3,3}|3|1/3|[1,6]|1/108|Yes|\n",
    "||||3|2/3|[2,3,4,5]|2/108|No|\n",
    "||1/4|{[2,4,5][2,4,5]}|2*[2,4,5]| $\\frac19$|{1,3},{3,6}|1/36|Yes|\n",
    "|||||8/9|Other|8/36|No|\n",
    "||$\\frac19$|{[1&#124;6],[1&#124;6]}|6|1/6|3|1/54|Yes|\n",
    "|||||5/6|~3|5/54|No|\n",
    "|Total|||||| $\\frac{10}{36}$|Yes|\n",
    "||||||| $\\frac{26}{36}$ |No|\n",
    ".\n",
    "    \n",
    "\n"
   ]
  },
  {
   "cell_type": "code",
   "execution_count": 1,
   "metadata": {},
   "outputs": [
    {
     "name": "stdout",
     "output_type": "stream",
     "text": [
      "Strategy 1: Succeeds 11/36\n",
      "Strategy 2: Succeeds 10/36\n"
     ]
    }
   ],
   "source": [
    "# Let's write a little simulator\n",
    "import random\n",
    "from itertools import repeat\n",
    "from collections import Counter\n",
    "from IPython.core.debugger import set_trace\n",
    "\n",
    "repeats = 108000\n",
    "\n",
    "straits = (frozenset(\"12345\"), frozenset(\"23456\"))\n",
    "first = frozenset(\"1245\")\n",
    "   \n",
    "def roll():\n",
    "    return random.choice(\"123456\")\n",
    "    \n",
    "def strat1():\n",
    "    filled = set(\"1245\")\n",
    "    for dummy in range(2):\n",
    "        if roll() == \"3\":\n",
    "            return True\n",
    "    return False\n",
    "    \n",
    "def strat2():\n",
    "    filled = set(\"245\")\n",
    "    rolls = set([roll(), roll()])\n",
    "    if filled.union(rolls) in straits:\n",
    "        return True\n",
    "    if '3' in rolls:\n",
    "        filled.add(\"3\")\n",
    "        if roll() in {\"1\", \"6\"}:\n",
    "            return True\n",
    "        return False\n",
    "    elif set(\"16\").intersection(rolls):\n",
    "        if roll() == \"3\":\n",
    "            return True\n",
    "        return False\n",
    "    else:\n",
    "        rolls = set([roll(), roll()])\n",
    "        if filled.union(rolls) in straits:\n",
    "            return True\n",
    "        return False\n",
    "\n",
    "s1 = Counter((strat1() for dummy in range(repeats)))\n",
    "s2 = Counter((strat2() for dummy in range(repeats)))\n",
    "\n",
    "print(\"Strategy 1: Succeeds {}/36\".format(round(36 * s1[True]/repeats)))\n",
    "print(\"Strategy 2: Succeeds {}/36\".format(round(36 * s2[True]/repeats)))\n",
    "\n"
   ]
  }
 ],
 "metadata": {
  "kernelspec": {
   "display_name": "Python 3",
   "language": "python",
   "name": "python3"
  },
  "language_info": {
   "codemirror_mode": {
    "name": "ipython",
    "version": 3
   },
   "file_extension": ".py",
   "mimetype": "text/x-python",
   "name": "python",
   "nbconvert_exporter": "python",
   "pygments_lexer": "ipython3",
   "version": "3.5.2"
  }
 },
 "nbformat": 4,
 "nbformat_minor": 2
}
