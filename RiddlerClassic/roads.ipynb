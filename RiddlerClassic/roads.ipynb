{
 "cells": [
  {
   "cell_type": "code",
   "execution_count": 1,
   "metadata": {},
   "outputs": [
    {
     "data": {
      "text/html": [
       "<style>\n",
       "table {float:left}\n",
       "</style>"
      ],
      "text/plain": [
       "<IPython.core.display.HTML object>"
      ]
     },
     "metadata": {},
     "output_type": "display_data"
    }
   ],
   "source": [
    "%%html\n",
    "<style>\n",
    "table {float:left}\n",
    "</style>"
   ]
  },
  {
   "cell_type": "code",
   "execution_count": 32,
   "metadata": {},
   "outputs": [],
   "source": [
    "import math"
   ]
  },
  {
   "cell_type": "markdown",
   "metadata": {},
   "source": [
    "Consider four towns arranged to form the corners of a square, where each side is 10 miles long. You own a road-building company. The state has offered you \\$28 million to construct a road system linking all four towns in some way, and it costs you $1 million to build one mile of road. Can you turn a profit if you take the job?\n",
    "\n",
    "*Extra credit:* How does your business calculus change if there were five towns arranged as a pentagon? Six as a hexagon? Etc.?"
   ]
  },
  {
   "cell_type": "markdown",
   "metadata": {},
   "source": [
    "![title](roads.jpg)"
   ]
  },
  {
   "cell_type": "markdown",
   "metadata": {},
   "source": [
    "Three of the four sides would be 30"
   ]
  },
  {
   "cell_type": "markdown",
   "metadata": {},
   "source": [
    "Both full diagonals would be $2*10\\sqrt{2}=20\\sqrt{2}=28.28$"
   ]
  },
  {
   "cell_type": "markdown",
   "metadata": {},
   "source": [
    "Try three sides of a smaller square with diagonals connecting them to the four towns on the larger square:\n",
    "If those corners are n miles apart, three sides of the smaller square is 3n, and each diagonal is $\\frac{(10-n)\\sqrt{2}}{2}$\n",
    "and 4 diagonals is $2(10-n)\\sqrt{2}$ which will always be longer than the 2 diagonals."
   ]
  },
  {
   "cell_type": "markdown",
   "metadata": {},
   "source": [
    "|n|3 sides|diagonal|4 diagonals|total|\n",
    "|-|------|--------|-|------------------------|\n",
    "|1|3|$4.5\\sqrt{2}$|25.46|28.46|\n",
    "|2|6|$4\\sqrt{2}$|22.63|28.63|\n",
    "|3|9|$3.5\\sqrt{2}$|19.8|28.8|\n",
    "|4|12|$3\\sqrt{2}$|16.97|28.97|\n",
    "|5|15|$2.5\\sqrt{2}$|14.14|29.14|\n",
    "\n",
    "\n"
   ]
  },
  {
   "cell_type": "markdown",
   "metadata": {},
   "source": [
    "Now try a central line with diagonals from the ends to each of the two nearest corners.\n",
    "If the central line is 0 < n < 10 units long, then each diagonal will be the hypotenuse of a right triangle with sides that are 5 and $\\frac{10-n}{2}$ long, so the diagonal will be $$\\sqrt{5^2+\\left(\\frac{10-n}{2}\\right)^2}$$"
   ]
  },
  {
   "cell_type": "markdown",
   "metadata": {},
   "source": [
    "or $\\sqrt{5^2+\\frac{n^2-20n+100}{4}}=\\sqrt{\\frac{100+n^2-20n+100}{4}}=\\frac{\\sqrt{n^2-20n+200}}{2}$"
   ]
  },
  {
   "cell_type": "markdown",
   "metadata": {},
   "source": [
    "Which means that 4 diagonals will be $2\\sqrt{n^2-20n+200}$ and the total will be $n+2\\sqrt{n^2-20n+200}$"
   ]
  },
  {
   "cell_type": "markdown",
   "metadata": {},
   "source": [
    "\n",
    "|n | $n^2-20n+200$ |sqrt|diagonal|4 diagonal| total|profit|\n",
    "|--|---------------|----|--------|----------|------|------|\n",
    "|10| 100 | 10   | 5  |20   | 30  |-\\$2M|\n",
    "|8 | 104 | 10.2 | 5.1|20.4 | 28.4|-\\$396,078|\n",
    "|6 | 116 | 10.77| 5.38|21.54 |27.54| |\n",
    "|5 | 125 | 11.18| 5.59|22.36 |27.36| |\n",
    "|4.5|130.25|11.41|5.70|22.82 |27.235|\\$674,576|\n",
    "|4 | 136 | 11.66| 5.83|23.32 |25.32|\\$676,192|\n",
    "|3.5|142.25|11.93|5.96|23.85 |27.35|\\$646.279|\n",
    "|3 | 149 | 12.2 | 6.1 |24.41 |27.41| |\n",
    "|2.5|156.25|12.5| 6.25|25    |27.5 | |\n",
    "|2 | 164 | 12.80| 6.4 |25.61 |27.61| |\n"
   ]
  },
  {
   "cell_type": "code",
   "execution_count": 79,
   "metadata": {},
   "outputs": [
    {
     "data": {
      "text/plain": [
       "['4.000 136.00 11.66 5.83 23.32 27.32 $676,192.42',\n",
       " '4.200 133.64 11.56 5.78 23.12 27.32 $679,446.37',\n",
       " '4.210 133.52 11.56 5.78 23.11 27.32 $679,474.26',\n",
       " '4.220 133.41 11.55 5.78 23.10 27.32 $679,489.18',\n",
       " '4.225 133.35 11.55 5.77 23.10 27.32 $679,491.78',\n",
       " '4.230 133.29 11.55 5.77 23.09 27.32 $679,491.13',\n",
       " '4.235 133.24 11.54 5.77 23.09 27.32 $679,487.23',\n",
       " '4.240 133.18 11.54 5.77 23.08 27.32 $679,480.08',\n",
       " '4.245 133.12 11.54 5.77 23.08 27.32 $679,469.67',\n",
       " '4.250 133.06 11.54 5.77 23.07 27.32 $679,456.01',\n",
       " '4.260 132.95 11.53 5.77 23.06 27.32 $679,418.91',\n",
       " '4.270 132.83 11.53 5.76 23.05 27.32 $679,368.77',\n",
       " '4.300 132.49 11.51 5.76 23.02 27.32 $679,139.89',\n",
       " '5.000 125.00 11.18 5.59 22.36 27.36 $639,320.23']"
      ]
     },
     "execution_count": 79,
     "metadata": {},
     "output_type": "execute_result"
    }
   ],
   "source": [
    "from math import sqrt\n",
    "def record(n):\n",
    "    r1 = n\n",
    "    r2 = n**2-20*n+200\n",
    "    r3 = sqrt(r2)\n",
    "    r4 = r3 / 2.0\n",
    "    r5 = r3 * 2.0\n",
    "    r6 = r5 + n\n",
    "    r7 = 1000000*(28 - r6)\n",
    "    #return [r1, r2, r3, r4, r5, r6, r7]\n",
    "    return \"{:.3f} {:.2f} {:.2f} {:.2f} {:.2f} {:.2f} ${:,.2f}\".format(r1,r2,r3,r4,r5,r6,r7)\n",
    "    #return \"{%s %s %.2f %.2f %.2f %.2f %,.2f\" % (r1, r2, r3,r4,r5,r6, r7)\n",
    "\n",
    "y=[record(n) for n in (4, 4.2, 4.21, 4.22, 4.225, 4.23, 4.235, 4.24, 4.245, 4.25, 4.26, 4.27, 4.3, 5)]\n",
    "#print(\"\\n\".join(map(str,y)))\n",
    "y"
   ]
  },
  {
   "cell_type": "code",
   "execution_count": null,
   "metadata": {},
   "outputs": [],
   "source": []
  }
 ],
 "metadata": {
  "kernelspec": {
   "display_name": "Python 3",
   "language": "python",
   "name": "python3"
  },
  "language_info": {
   "codemirror_mode": {
    "name": "ipython",
    "version": 3
   },
   "file_extension": ".py",
   "mimetype": "text/x-python",
   "name": "python",
   "nbconvert_exporter": "python",
   "pygments_lexer": "ipython3",
   "version": "3.5.2"
  }
 },
 "nbformat": 4,
 "nbformat_minor": 2
}
